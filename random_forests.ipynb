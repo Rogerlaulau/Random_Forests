{
  "nbformat": 4,
  "nbformat_minor": 0,
  "metadata": {
    "colab": {
      "name": "random_forests.ipynb",
      "provenance": []
    },
    "kernelspec": {
      "name": "python3",
      "display_name": "Python 3"
    },
    "language_info": {
      "name": "python"
    },
    "accelerator": "GPU"
  },
  "cells": [
    {
      "cell_type": "code",
      "metadata": {
        "colab": {
          "base_uri": "https://localhost:8080/"
        },
        "id": "WzywipjXwqcm",
        "outputId": "ae0f36f6-40fd-47ea-fbc7-2bec7f391114"
      },
      "source": [
        "from google.colab import drive\n",
        "drive.mount('/content/drive/')"
      ],
      "execution_count": 1,
      "outputs": [
        {
          "output_type": "stream",
          "text": [
            "Mounted at /content/drive/\n"
          ],
          "name": "stdout"
        }
      ]
    },
    {
      "cell_type": "code",
      "metadata": {
        "colab": {
          "base_uri": "https://localhost:8080/"
        },
        "id": "vxS3OZXKxHjc",
        "outputId": "28c2089c-53ef-4b27-cacc-94eb70ce39f5"
      },
      "source": [
        "cd '/content/drive/My Drive/Rondom_Forests'"
      ],
      "execution_count": 2,
      "outputs": [
        {
          "output_type": "stream",
          "text": [
            "/content/drive/My Drive/Rondom_Forests\n"
          ],
          "name": "stdout"
        }
      ]
    },
    {
      "cell_type": "code",
      "metadata": {
        "colab": {
          "base_uri": "https://localhost:8080/"
        },
        "id": "K-3-0x6yxRl7",
        "outputId": "7b0bd0fc-22e8-4582-f65f-277e5fb8d2b8"
      },
      "source": [
        "ls"
      ],
      "execution_count": 3,
      "outputs": [
        {
          "output_type": "stream",
          "text": [
            "pima-indians-diabetes.data.csv  random_forests.ipynb\n"
          ],
          "name": "stdout"
        }
      ]
    },
    {
      "cell_type": "code",
      "metadata": {
        "colab": {
          "base_uri": "https://localhost:8080/"
        },
        "id": "6My4mzPJx2l5",
        "outputId": "6ca47ca5-25f3-481f-f8e5-9ef481e416b4"
      },
      "source": [
        "!wget https://raw.githubusercontent.com/jbrownlee/Datasets/master/pima-indians-diabetes.data.csv"
      ],
      "execution_count": 4,
      "outputs": [
        {
          "output_type": "stream",
          "text": [
            "--2021-04-18 16:33:13--  https://raw.githubusercontent.com/jbrownlee/Datasets/master/pima-indians-diabetes.data.csv\n",
            "Resolving raw.githubusercontent.com (raw.githubusercontent.com)... 185.199.108.133, 185.199.109.133, 185.199.110.133, ...\n",
            "Connecting to raw.githubusercontent.com (raw.githubusercontent.com)|185.199.108.133|:443... connected.\n",
            "HTTP request sent, awaiting response... 200 OK\n",
            "Length: 23278 (23K) [text/plain]\n",
            "Saving to: ‘pima-indians-diabetes.data.csv.1’\n",
            "\n",
            "pima-indians-diabet 100%[===================>]  22.73K  --.-KB/s    in 0.002s  \n",
            "\n",
            "2021-04-18 16:33:13 (12.6 MB/s) - ‘pima-indians-diabetes.data.csv.1’ saved [23278/23278]\n",
            "\n"
          ],
          "name": "stdout"
        }
      ]
    },
    {
      "cell_type": "code",
      "metadata": {
        "colab": {
          "base_uri": "https://localhost:8080/"
        },
        "id": "UVz2wM71wwTR",
        "outputId": "9e05048f-7b21-4905-b5e9-fc4f895d24d1"
      },
      "source": [
        "import pandas as pd\n",
        "# list for column headers\n",
        "names = ['preg', 'plas', 'pres', 'skin', 'test', 'mass', 'pedi', 'age', 'class']\n",
        "# open file with pd.read_csv\n",
        "df = pd.read_csv(\"https://raw.githubusercontent.com/jbrownlee/Datasets/master/pima-indians-diabetes.data.csv\", names=names)\n",
        "print(df.shape)\n",
        "# print head of data set\n",
        "print(df.head())"
      ],
      "execution_count": 5,
      "outputs": [
        {
          "output_type": "stream",
          "text": [
            "(768, 9)\n",
            "   preg  plas  pres  skin  test  mass   pedi  age  class\n",
            "0     6   148    72    35     0  33.6  0.627   50      1\n",
            "1     1    85    66    29     0  26.6  0.351   31      0\n",
            "2     8   183    64     0     0  23.3  0.672   32      1\n",
            "3     1    89    66    23    94  28.1  0.167   21      0\n",
            "4     0   137    40    35   168  43.1  2.288   33      1\n"
          ],
          "name": "stdout"
        }
      ]
    },
    {
      "cell_type": "code",
      "metadata": {
        "id": "kJH5T9TUww-A"
      },
      "source": [
        "X = df.drop('class', axis=1)\n",
        "y = df['class']"
      ],
      "execution_count": 6,
      "outputs": []
    },
    {
      "cell_type": "code",
      "metadata": {
        "id": "LfLQdSauyJyr"
      },
      "source": [
        "# split into test, train data\n",
        "from sklearn.model_selection import train_test_split\n",
        "# implementing train-test-split\n",
        "X_train, X_test, y_train, y_test = train_test_split(X, y, test_size=0.33, random_state=66)"
      ],
      "execution_count": 7,
      "outputs": []
    },
    {
      "cell_type": "code",
      "metadata": {
        "id": "FTkh0L9qyVox"
      },
      "source": [
        "# create the random forest model\n",
        "from sklearn.ensemble import RandomForestClassifier\n",
        "from sklearn import model_selection\n",
        "# random forest model creation\n",
        "rfc = RandomForestClassifier()\n",
        "rfc.fit(X_train,y_train)\n",
        "# predictions\n",
        "rfc_predict = rfc.predict(X_test)"
      ],
      "execution_count": 8,
      "outputs": []
    },
    {
      "cell_type": "code",
      "metadata": {
        "id": "-33a6s0ryeCt"
      },
      "source": [
        "# Evaluating Performance\n",
        "from sklearn.model_selection import cross_val_score\n",
        "from sklearn.metrics import classification_report, confusion_matrix"
      ],
      "execution_count": 9,
      "outputs": []
    },
    {
      "cell_type": "code",
      "metadata": {
        "id": "M0p9uBy7zYBN"
      },
      "source": [
        "rfc_cv_score = cross_val_score(rfc, X, y, cv=10, scoring='roc_auc')"
      ],
      "execution_count": 10,
      "outputs": []
    },
    {
      "cell_type": "code",
      "metadata": {
        "colab": {
          "base_uri": "https://localhost:8080/"
        },
        "id": "tDNHuRSIzb52",
        "outputId": "ce93d81c-4755-48b4-9f3e-073456411248"
      },
      "source": [
        "rfc_cv_score"
      ],
      "execution_count": 11,
      "outputs": [
        {
          "output_type": "execute_result",
          "data": {
            "text/plain": [
              "array([0.78333333, 0.8362963 , 0.81814815, 0.72888889, 0.81740741,\n",
              "       0.84777778, 0.87037037, 0.9037037 , 0.78846154, 0.86      ])"
            ]
          },
          "metadata": {
            "tags": []
          },
          "execution_count": 11
        }
      ]
    },
    {
      "cell_type": "code",
      "metadata": {
        "colab": {
          "base_uri": "https://localhost:8080/"
        },
        "id": "86J4SsPizhnp",
        "outputId": "e78c2b50-5066-4d3c-b636-74530c15c86b"
      },
      "source": [
        "print(\"=== Confusion Matrix ===\")\n",
        "print(confusion_matrix(y_test, rfc_predict))\n",
        "print('\\n')\n",
        "print(\"=== Classification Report ===\")\n",
        "print(classification_report(y_test, rfc_predict))\n",
        "print('\\n')\n",
        "print(\"=== All AUC Scores ===\")\n",
        "print(rfc_cv_score)\n",
        "print('\\n')\n",
        "print(\"=== Mean AUC Score ===\")\n",
        "print(\"Mean AUC Score - Random Forest: \", rfc_cv_score.mean())"
      ],
      "execution_count": 12,
      "outputs": [
        {
          "output_type": "stream",
          "text": [
            "=== Confusion Matrix ===\n",
            "[[148  28]\n",
            " [ 32  46]]\n",
            "\n",
            "\n",
            "=== Classification Report ===\n",
            "              precision    recall  f1-score   support\n",
            "\n",
            "           0       0.82      0.84      0.83       176\n",
            "           1       0.62      0.59      0.61        78\n",
            "\n",
            "    accuracy                           0.76       254\n",
            "   macro avg       0.72      0.72      0.72       254\n",
            "weighted avg       0.76      0.76      0.76       254\n",
            "\n",
            "\n",
            "\n",
            "=== All AUC Scores ===\n",
            "[0.78333333 0.8362963  0.81814815 0.72888889 0.81740741 0.84777778\n",
            " 0.87037037 0.9037037  0.78846154 0.86      ]\n",
            "\n",
            "\n",
            "=== Mean AUC Score ===\n",
            "Mean AUC Score - Random Forest:  0.8254387464387463\n"
          ],
          "name": "stdout"
        }
      ]
    },
    {
      "cell_type": "code",
      "metadata": {
        "colab": {
          "base_uri": "https://localhost:8080/"
        },
        "id": "Heok0sTzzl6Q",
        "outputId": "72449d54-13c9-4cf8-8a41-48ad898beca2"
      },
      "source": [
        "# Tuning Hyperparameters\n",
        "from sklearn.model_selection import RandomizedSearchCV\n",
        "import numpy as np\n",
        "# number of trees in random forest\n",
        "n_estimators = [int(x) for x in np.linspace(start = 200, stop = 2000, num = 10)]\n",
        "# number of features at every split\n",
        "max_features = ['auto', 'sqrt']\n",
        "\n",
        "# max depth\n",
        "max_depth = [int(x) for x in np.linspace(100, 500, num = 11)]\n",
        "max_depth.append(None)\n",
        "# create random grid\n",
        "random_grid = {\n",
        " 'n_estimators': n_estimators,\n",
        " 'max_features': max_features,\n",
        " 'max_depth': max_depth\n",
        " }\n",
        "# Random search of parameters\n",
        "rfc_random = RandomizedSearchCV(estimator = rfc, param_distributions = random_grid, n_iter = 100, cv = 3, verbose=2, random_state=42, n_jobs = -1)\n",
        "# Fit the model\n",
        "rfc_random.fit(X_train, y_train)\n",
        "# print results\n",
        "print(rfc_random.best_params_)"
      ],
      "execution_count": 13,
      "outputs": [
        {
          "output_type": "stream",
          "text": [
            "Fitting 3 folds for each of 100 candidates, totalling 300 fits\n"
          ],
          "name": "stdout"
        },
        {
          "output_type": "stream",
          "text": [
            "[Parallel(n_jobs=-1)]: Using backend LokyBackend with 2 concurrent workers.\n",
            "[Parallel(n_jobs=-1)]: Done  37 tasks      | elapsed:   52.4s\n",
            "[Parallel(n_jobs=-1)]: Done 158 tasks      | elapsed:  3.6min\n",
            "[Parallel(n_jobs=-1)]: Done 300 out of 300 | elapsed:  6.6min finished\n"
          ],
          "name": "stderr"
        },
        {
          "output_type": "stream",
          "text": [
            "{'n_estimators': 800, 'max_features': 'sqrt', 'max_depth': None}\n"
          ],
          "name": "stdout"
        }
      ]
    },
    {
      "cell_type": "code",
      "metadata": {
        "colab": {
          "base_uri": "https://localhost:8080/"
        },
        "id": "M3egaTNd0Ezy",
        "outputId": "ecec0c33-e121-46e6-bba9-188ecc8c1076"
      },
      "source": [
        "rfc = RandomForestClassifier(n_estimators=600, max_depth=300, max_features='sqrt')\n",
        "rfc.fit(X_train,y_train)\n",
        "rfc_predict = rfc.predict(X_test)\n",
        "rfc_cv_score = cross_val_score(rfc, X, y, cv=10, scoring='roc_auc')\n",
        "print(\"=== Confusion Matrix ===\")\n",
        "print(confusion_matrix(y_test, rfc_predict))\n",
        "print('\\n')\n",
        "print(\"=== Classification Report ===\")\n",
        "print(classification_report(y_test, rfc_predict))\n",
        "print('\\n')\n",
        "print(\"=== All AUC Scores ===\")\n",
        "print(rfc_cv_score)\n",
        "print('\\n')\n",
        "print(\"=== Mean AUC Score ===\")\n",
        "print(\"Mean AUC Score - Random Forest: \", rfc_cv_score.mean())"
      ],
      "execution_count": 14,
      "outputs": [
        {
          "output_type": "stream",
          "text": [
            "=== Confusion Matrix ===\n",
            "[[149  27]\n",
            " [ 34  44]]\n",
            "\n",
            "\n",
            "=== Classification Report ===\n",
            "              precision    recall  f1-score   support\n",
            "\n",
            "           0       0.81      0.85      0.83       176\n",
            "           1       0.62      0.56      0.59        78\n",
            "\n",
            "    accuracy                           0.76       254\n",
            "   macro avg       0.72      0.71      0.71       254\n",
            "weighted avg       0.75      0.76      0.76       254\n",
            "\n",
            "\n",
            "\n",
            "=== All AUC Scores ===\n",
            "[0.78740741 0.84       0.82185185 0.7362963  0.81851852 0.86333333\n",
            " 0.85962963 0.90740741 0.80269231 0.85269231]\n",
            "\n",
            "\n",
            "=== Mean AUC Score ===\n",
            "Mean AUC Score - Random Forest:  0.828982905982906\n"
          ],
          "name": "stdout"
        }
      ]
    }
  ]
}